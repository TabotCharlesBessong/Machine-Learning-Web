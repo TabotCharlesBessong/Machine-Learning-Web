{
 "cells": [
  {
   "cell_type": "code",
   "execution_count": null,
   "id": "c5bb374f",
   "metadata": {},
   "outputs": [],
   "source": [
    "import numpy as np\n",
    "import pandas as pd\n",
    "import matplotlib.pyplot as plt\n",
    "import seaborn as sns"
   ]
  },
  {
   "cell_type": "code",
   "execution_count": null,
   "id": "955c77b0",
   "metadata": {},
   "outputs": [],
   "source": [
    "df = pd.read_csv('UpdatedResumeDataSet.csv')\n",
    "df.sample(7)"
   ]
  },
  {
   "cell_type": "code",
   "execution_count": null,
   "id": "907bde6f",
   "metadata": {},
   "outputs": [],
   "source": [
    "df['Category'].value_counts()"
   ]
  },
  {
   "cell_type": "code",
   "execution_count": null,
   "id": "f4f7ef59",
   "metadata": {},
   "outputs": [],
   "source": [
    "plt.figure(figsize=(12, 8))\n",
    "sns.countplot(x='Category', data=df, palette='viridis')  # or any other colormap\n",
    "plt.xticks(rotation=90)\n",
    "plt.tight_layout()\n",
    "plt.show()"
   ]
  },
  {
   "cell_type": "code",
   "execution_count": null,
   "id": "771515a2",
   "metadata": {},
   "outputs": [],
   "source": [
    "df['Category'].unique()"
   ]
  },
  {
   "cell_type": "code",
   "execution_count": null,
   "id": "68773a52",
   "metadata": {},
   "outputs": [],
   "source": [
    "counts = df['Category'].value_counts()\n",
    "labels = df['Category'].unique()\n",
    "plt.figure(figsize=(15,10))\n",
    "\n",
    "plt.pie(counts,labels=labels,autopct='%1.1f%%',shadow=True, colors=plt.cm.plasma(np.linspace(0,1,3)))\n",
    "plt.show()"
   ]
  },
  {
   "cell_type": "code",
   "execution_count": null,
   "id": "7dfe617d",
   "metadata": {},
   "outputs": [],
   "source": [
    "df['Category'][0]"
   ]
  },
  {
   "cell_type": "code",
   "execution_count": null,
   "id": "647f0298",
   "metadata": {},
   "outputs": [],
   "source": [
    "df['Resume'][0]"
   ]
  },
  {
   "cell_type": "code",
   "execution_count": null,
   "id": "f77e3989",
   "metadata": {},
   "outputs": [],
   "source": [
    "# checking the original category distribution\n",
    "print(\"Original Category Distribution:\")\n",
    "print(df['Category'].value_counts())\n",
    "\n",
    "# Get the longest category size (i.e., the category with maximum number of enteries)\n",
    "max_size = df['Category'].value_counts().max()\n",
    "\n",
    "# Perform oversampling\n",
    "balanced_df = df.groupby('Category').apply(lambda x:x.sample(max_size,replace=True)).reset_index(drop=True)\n",
    "\n",
    "# shuffle the dataset to avoid any order bias\n",
    "df = balanced_df.sample(frac=1).reset_index(drop=True)\n",
    "\n",
    "# Check the balanced category distribution\n",
    "print(\"\\nBalanced Category Distribution (After Oversampling):\")\n",
    "print(df['Category'].value_counts())"
   ]
  },
  {
   "cell_type": "markdown",
   "id": "c205ede5",
   "metadata": {},
   "source": [
    "## Cleaning Data:\n",
    "1. URLs,\n",
    "2. hashtags,\n",
    "3. mentions,\n",
    "4. special letters,\n",
    "5. punctuations"
   ]
  },
  {
   "cell_type": "code",
   "execution_count": null,
   "id": "fc4c05dc",
   "metadata": {},
   "outputs": [],
   "source": [
    "import re\n",
    "def cleanResume(txt):\n",
    "  cleanText = re.sub('http\\S+\\s', ' ', txt)\n",
    "  cleanText = re.sub('RT|cc', ' ', cleanText)\n",
    "  cleanText = re.sub('#\\S+\\s', ' ', cleanText)\n",
    "  cleanText = re.sub('@\\S+', '  ', cleanText)  \n",
    "  cleanText = re.sub('[%s]' % re.escape(\"\"\"!\"#$%&'()*+,-./:;<=>?@[\\]^_`{|}~\"\"\"), ' ', cleanText)\n",
    "  cleanText = re.sub(r'[^\\x00-\\x7f]', ' ', cleanText) \n",
    "  cleanText = re.sub('\\s+', ' ', cleanText)\n",
    "  return cleanText"
   ]
  },
  {
   "cell_type": "code",
   "execution_count": null,
   "id": "e9394b13",
   "metadata": {},
   "outputs": [],
   "source": [
    "cleanResume(\"my #### $ #  #noorsaeed webiste like is this http://heloword and access it @gmain.com\")"
   ]
  },
  {
   "cell_type": "code",
   "execution_count": null,
   "id": "44e666cb",
   "metadata": {},
   "outputs": [],
   "source": [
    "df['Resume'] = df['Resume'].apply(lambda x: cleanResume(x))\n",
    "df['Resume'][0]"
   ]
  },
  {
   "cell_type": "markdown",
   "id": "df4663e5",
   "metadata": {},
   "source": [
    "## words into categorical values"
   ]
  },
  {
   "cell_type": "code",
   "execution_count": null,
   "id": "8f409a0d",
   "metadata": {},
   "outputs": [],
   "source": [
    "from sklearn.preprocessing import LabelEncoder\n",
    "le = LabelEncoder()"
   ]
  },
  {
   "cell_type": "code",
   "execution_count": null,
   "id": "206d81d8",
   "metadata": {},
   "outputs": [],
   "source": [
    "le.fit(df['Category'])\n",
    "df['Category'] = le.transform(df['Category'])\n",
    "df.Category.unique()"
   ]
  },
  {
   "cell_type": "code",
   "execution_count": null,
   "id": "fbb5c8d9",
   "metadata": {},
   "outputs": [],
   "source": [
    "# ['Data Science', 'HR', 'Advocate', 'Arts', 'Web Designing',\n",
    "#        'Mechanical Engineer', 'Sales', 'Health and fitness',\n",
    "#        'Civil Engineer', 'Java Developer', 'Business Analyst',\n",
    "#        'SAP Developer', 'Automation Testing', 'Electrical Engineering',\n",
    "#        'Operations Manager', 'Python Developer', 'DevOps Engineer',\n",
    "#        'Network Security Engineer', 'PMO', 'Database', 'Hadoop',\n",
    "#        'ETL Developer', 'DotNet Developer', 'Blockchain', 'Testing'],\n",
    "#       dtype=object)"
   ]
  },
  {
   "cell_type": "markdown",
   "id": "036df830",
   "metadata": {},
   "source": [
    "## Vectorization"
   ]
  },
  {
   "cell_type": "code",
   "execution_count": null,
   "id": "69735495",
   "metadata": {},
   "outputs": [],
   "source": [
    "from sklearn.feature_extraction.text import TfidfVectorizer\n",
    "tfidf = TfidfVectorizer(stop_words='english')\n",
    "\n",
    "tfidf.fit(df['Resume'])\n",
    "requredTaxt  = tfidf.transform(df['Resume'])"
   ]
  },
  {
   "cell_type": "markdown",
   "id": "43e0b575",
   "metadata": {},
   "source": [
    "## Splitting"
   ]
  },
  {
   "cell_type": "code",
   "execution_count": null,
   "id": "e75c9646",
   "metadata": {},
   "outputs": [],
   "source": [
    "from sklearn.model_selection import train_test_split"
   ]
  },
  {
   "cell_type": "code",
   "execution_count": null,
   "id": "5b2bf5ba",
   "metadata": {},
   "outputs": [],
   "source": [
    "X_train, X_test, y_train, y_test = train_test_split(requredTaxt, df['Category'], test_size=0.2, random_state=42)"
   ]
  },
  {
   "cell_type": "code",
   "execution_count": null,
   "id": "c11ba42d",
   "metadata": {},
   "outputs": [],
   "source": [
    "print(X_train.shape,X_test.shape)"
   ]
  },
  {
   "cell_type": "markdown",
   "id": "37175846",
   "metadata": {},
   "source": [
    "## Model training"
   ]
  },
  {
   "cell_type": "code",
   "execution_count": null,
   "id": "c01c1bb8",
   "metadata": {},
   "outputs": [],
   "source": [
    "from sklearn.neighbors import KNeighborsClassifier\n",
    "from sklearn.svm import SVC\n",
    "from sklearn.ensemble import RandomForestClassifier\n",
    "from sklearn.linear_model import LogisticRegression\n",
    "from sklearn.naive_bayes import GaussianNB\n",
    "from sklearn.multiclass import OneVsRestClassifier\n",
    "from sklearn.metrics import accuracy_score, confusion_matrix, classification_report\n",
    "\n",
    "# Ensure that X_train and X_test are dense if they are sparse\n",
    "X_train = X_train.toarray() if hasattr(X_train, 'toarray') else X_train\n",
    "X_test = X_test.toarray() if hasattr(X_test, 'toarray') else X_test\n",
    "\n",
    "# 1. Train KNeighborsClassifier\n",
    "knn_model = OneVsRestClassifier(KNeighborsClassifier())\n",
    "knn_model.fit(X_train, y_train)\n",
    "y_pred_knn = knn_model.predict(X_test)\n",
    "print(\"\\nKNeighborsClassifier Results:\")\n",
    "print(f\"Accuracy: {accuracy_score(y_test, y_pred_knn):.4f}\")\n",
    "print(f\"Confusion Matrix:\\n{confusion_matrix(y_test, y_pred_knn)}\")\n",
    "print(f\"Classification Report:\\n{classification_report(y_test, y_pred_knn)}\")"
   ]
  },
  {
   "cell_type": "code",
   "execution_count": null,
   "id": "0d888db5",
   "metadata": {},
   "outputs": [],
   "source": [
    "# 2. Train SVC\n",
    "svc_model = OneVsRestClassifier(SVC())\n",
    "svc_model.fit(X_train, y_train)\n",
    "y_pred_svc = svc_model.predict(X_test)\n",
    "print(\"\\nSVC Results:\")\n",
    "print(f\"Accuracy: {accuracy_score(y_test, y_pred_svc):.4f}\")\n",
    "print(f\"Confusion Matrix:\\n{confusion_matrix(y_test, y_pred_svc)}\")\n",
    "print(f\"Classification Report:\\n{classification_report(y_test, y_pred_svc)}\")"
   ]
  },
  {
   "cell_type": "code",
   "execution_count": null,
   "id": "be465278",
   "metadata": {},
   "outputs": [],
   "source": [
    "# 3. Train RandomForestClassifier\n",
    "rf_model = OneVsRestClassifier(RandomForestClassifier())\n",
    "rf_model.fit(X_train, y_train)\n",
    "y_pred_rf = rf_model.predict(X_test)\n",
    "print(\"\\nRandomForestClassifier Results:\")\n",
    "print(f\"Accuracy: {accuracy_score(y_test, y_pred_rf):.4f}\")\n",
    "print(f\"Confusion Matrix:\\n{confusion_matrix(y_test, y_pred_rf)}\")\n",
    "print(f\"Classification Report:\\n{classification_report(y_test, y_pred_rf)}\")"
   ]
  },
  {
   "cell_type": "markdown",
   "id": "a3a0aa35",
   "metadata": {},
   "source": [
    "## Saving the model as a pickle file"
   ]
  },
  {
   "cell_type": "code",
   "execution_count": 88,
   "id": "36af612d",
   "metadata": {},
   "outputs": [],
   "source": [
    "import pickle\n",
    "pickle.dump(tfidf,open('tfidf.pkl','wb'))\n",
    "pickle.dump(svc_model, open('clf.pkl', 'wb'))\n",
    "pickle.dump(le, open(\"encoder.pkl\",'wb'))"
   ]
  },
  {
   "cell_type": "markdown",
   "id": "afd5463a",
   "metadata": {},
   "source": [
    "## Prediction System"
   ]
  },
  {
   "cell_type": "code",
   "execution_count": 89,
   "id": "e8b02f26",
   "metadata": {},
   "outputs": [],
   "source": [
    "# Function to predict the category of a resume\n",
    "def pred(input_resume):\n",
    "  # Preprocess the input text (e.g., cleaning, etc.)\n",
    "  cleaned_text = cleanResume(input_resume) \n",
    "\n",
    "  # Vectorize the cleaned text using the same TF-IDF vectorizer used during training\n",
    "  vectorized_text = tfidf.transform([cleaned_text])\n",
    "  \n",
    "  # Convert sparse matrix to dense\n",
    "  vectorized_text = vectorized_text.toarray()\n",
    "\n",
    "  # Prediction\n",
    "  predicted_category = svc_model.predict(vectorized_text)\n",
    "\n",
    "  # get name of predicted category\n",
    "  predicted_category_name = le.inverse_transform(predicted_category)\n",
    "\n",
    "  return predicted_category_name[0]  # Return the category name"
   ]
  },
  {
   "cell_type": "code",
   "execution_count": 90,
   "id": "a327174d",
   "metadata": {},
   "outputs": [
    {
     "data": {
      "text/plain": [
       "'Data Science'"
      ]
     },
     "execution_count": 90,
     "metadata": {},
     "output_type": "execute_result"
    }
   ],
   "source": [
    "myresume = \"\"\"I am a data scientist specializing in machine\n",
    "learning, deep learning, and computer vision. With\n",
    "a strong background in mathematics, statistics,\n",
    "and programming, I am passionate about\n",
    "uncovering hidden patterns and insights in data.\n",
    "I have extensive experience in developing\n",
    "predictive models, implementing deep learning\n",
    "algorithms, and designing computer vision\n",
    "systems. My technical skills include proficiency in\n",
    "Python, Sklearn, TensorFlow, and PyTorch.\n",
    "What sets me apart is my ability to effectively\n",
    "communicate complex concepts to diverse\n",
    "audiences. I excel in translating technical insights\n",
    "into actionable recommendations that drive\n",
    "informed decision-making.\n",
    "If you're looking for a dedicated and versatile data\n",
    "scientist to collaborate on impactful projects, I am\n",
    "eager to contribute my expertise. Let's harness the\n",
    "power of data together to unlock new possibilities\n",
    "and shape a better future.\n",
    "Contact & Sources\n",
    "Email: 611noorsaeed@gmail.com\n",
    "Phone: 03442826192\n",
    "Github: https://github.com/611noorsaeed\n",
    "Linkdin: https://www.linkedin.com/in/noor-saeed654a23263/\n",
    "Blogs: https://medium.com/@611noorsaeed\n",
    "Youtube: Artificial Intelligence\n",
    "ABOUT ME\n",
    "WORK EXPERIENCE\n",
    "SKILLES\n",
    "NOOR SAEED\n",
    "LANGUAGES\n",
    "English\n",
    "Urdu\n",
    "Hindi\n",
    "I am a versatile data scientist with expertise in a wide\n",
    "range of projects, including machine learning,\n",
    "recommendation systems, deep learning, and computer\n",
    "vision. Throughout my career, I have successfully\n",
    "developed and deployed various machine learning models\n",
    "to solve complex problems and drive data-driven\n",
    "decision-making\n",
    "Machine Learnine\n",
    "Deep Learning\n",
    "Computer Vision\n",
    "Recommendation Systems\n",
    "Data Visualization\n",
    "Programming Languages (Python, SQL)\n",
    "Data Preprocessing and Feature Engineering\n",
    "Model Evaluation and Deployment\n",
    "Statistical Analysis\n",
    "Communication and Collaboration\n",
    "\"\"\"\n",
    "\n",
    "pred(myresume)"
   ]
  },
  {
   "cell_type": "code",
   "execution_count": 91,
   "id": "c212c339",
   "metadata": {},
   "outputs": [
    {
     "data": {
      "text/plain": [
       "'Health and fitness'"
      ]
     },
     "execution_count": 91,
     "metadata": {},
     "output_type": "execute_result"
    }
   ],
   "source": [
    "myresume = \"\"\"\n",
    "Jane Smith is a certified personal trainer with over 5 years of experience in helping individuals achieve their fitness goals. Specializing in weight loss, strength training, and sports conditioning, Jane has developed personalized workout routines for clients of all ages and fitness levels. She has extensive knowledge in nutrition and exercise science, and uses this to create holistic health and fitness programs that are tailored to individual needs.\n",
    "\n",
    "Jane holds a degree in Exercise Science and is a certified trainer through the National Academy of Sports Medicine (NASM). She has worked with athletes, seniors, and individuals with chronic health conditions, helping them improve their physical well-being and overall quality of life.\n",
    "\n",
    "Her expertise includes:\n",
    "- Weight Loss and Body Composition\n",
    "- Strength Training and Resistance Exercises\n",
    "- Cardio Conditioning\n",
    "- Nutrition Coaching and Meal Planning\n",
    "- Injury Prevention and Rehabilitation\n",
    "- Functional Movement and Flexibility Training\n",
    "- Group Fitness Classes\n",
    "\n",
    "Certifications:\n",
    "- Certified Personal Trainer, NASM\n",
    "- CPR and First Aid Certified\n",
    "- Yoga Instructor (200-Hour Certification)\n",
    "\n",
    "Education:\n",
    "BSc in Exercise Science, ABC University, 2014-2018\n",
    "\n",
    "Work Experience:\n",
    "- Personal Trainer at XYZ Fitness Gym (2018-Present)\n",
    "- Fitness Coach at Wellness Center (2016-2018)\n",
    "\n",
    "Languages:\n",
    "- English (Fluent)\n",
    "- Spanish (Conversational)\n",
    "\"\"\"\n",
    "\n",
    "# Now, test the model with the Health and Fitness-focused resume\n",
    "pred(myresume)"
   ]
  },
  {
   "cell_type": "code",
   "execution_count": 92,
   "id": "70597d99",
   "metadata": {},
   "outputs": [
    {
     "data": {
      "text/plain": [
       "'Network Security Engineer'"
      ]
     },
     "execution_count": 92,
     "metadata": {},
     "output_type": "execute_result"
    }
   ],
   "source": [
    "myresume = \"\"\"\n",
    "John Doe is an experienced Network Security Engineer with over 7 years of expertise in designing, implementing, and managing network security infrastructures. Specializing in safeguarding critical network systems, John has worked with various organizations to protect against cyber threats, data breaches, and unauthorized access. He is proficient in deploying firewalls, intrusion detection systems (IDS), VPNs, and network monitoring tools to ensure the integrity and security of networks.\n",
    "\n",
    "John holds a degree in Computer Science and certifications in several cybersecurity domains, including Certified Information Systems Security Professional (CISSP), Certified Ethical Hacker (CEH), and Cisco Certified Network Associate (CCNA). He has extensive experience in troubleshooting and resolving network vulnerabilities, and has played a key role in conducting security audits and risk assessments.\n",
    "\n",
    "Key Skills:\n",
    "- Network Security Architecture\n",
    "- Firewall Management and Configuration\n",
    "- Intrusion Detection and Prevention Systems (IDS/IPS)\n",
    "- Virtual Private Networks (VPNs)\n",
    "- Security Audits and Risk Assessments\n",
    "- Cybersecurity Incident Response\n",
    "- Network Monitoring and Traffic Analysis\n",
    "- Vulnerability Assessment and Penetration Testing\n",
    "- Data Encryption and Secure Communications\n",
    "\n",
    "Certifications:\n",
    "- CISSP (Certified Information Systems Security Professional)\n",
    "- CEH (Certified Ethical Hacker)\n",
    "- CCNA (Cisco Certified Network Associate)\n",
    "- CompTIA Security+\n",
    "\n",
    "Education:\n",
    "BSc in Computer Science, XYZ University, 2012-2016\n",
    "\n",
    "Professional Experience:\n",
    "- Network Security Engineer at ABC Corp (2016-Present)\n",
    "- IT Security Specialist at DEF Solutions (2014-2016)\n",
    "\n",
    "Languages:\n",
    "- English (Fluent)\n",
    "- French (Intermediate)\n",
    "\"\"\"\n",
    "\n",
    "# Now, test the model with the Network Security Engineer-focused resume\n",
    "pred(myresume)"
   ]
  },
  {
   "cell_type": "code",
   "execution_count": null,
   "id": "60812c44",
   "metadata": {},
   "outputs": [],
   "source": []
  }
 ],
 "metadata": {
  "kernelspec": {
   "display_name": "base",
   "language": "python",
   "name": "python3"
  },
  "language_info": {
   "codemirror_mode": {
    "name": "ipython",
    "version": 3
   },
   "file_extension": ".py",
   "mimetype": "text/x-python",
   "name": "python",
   "nbconvert_exporter": "python",
   "pygments_lexer": "ipython3",
   "version": "3.12.7"
  }
 },
 "nbformat": 4,
 "nbformat_minor": 5
}
